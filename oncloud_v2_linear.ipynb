{
 "cells": [
  {
   "cell_type": "markdown",
   "metadata": {},
   "source": [
    "# Problem: Predicting Airplane Delays\n",
    "\n",
    "The goals of this notebook are:\n",
    "- Process and create a dataset from downloaded ZIP files\n",
    "- Exploratory data analysis (EDA)\n",
    "- Establish a baseline model and improve it\n",
    "\n",
    "## Introduction to business scenario\n",
    "You work for a travel booking website that is working to improve the customer experience for flights that were delayed. The company wants to create a feature to let customers know if the flight will be delayed due to weather when the customers are booking the flight to or from the busiest airports for domestic travel in the US. \n",
    "\n",
    "You are tasked with solving part of this problem by leveraging machine learning to identify whether the flight will be delayed due to weather. You have been given access to the a dataset of on-time performance of domestic flights operated by large air carriers. You can use this data to train a machine learning model to predict if the flight is going to be delayed for the busiest airports.\n",
    "\n",
    "### Dataset\n",
    "The provided dataset contains scheduled and actual departure and arrival times reported by certified US air carriers that account for at least 1 percent of domestic scheduled passenger revenues. The data was collected by the Office of Airline Information, Bureau of Transportation Statistics (BTS). The dataset contains date, time, origin, destination, airline, distance, and delay status of flights for flights between 2014 and 2018.\n",
    "The data are in 60 compressed files, where each file contains a CSV for the flight details in a month for the five years (from 2014 - 2018). The data can be downloaded from this [link](https://ucstaff-my.sharepoint.com/:f:/g/personal/ibrahim_radwan_canberra_edu_au/EhWeqeQsh-9Mr1fneZc9_0sBOBzEdXngvxFJtAlIa-eAgA?e=8ukWwa). Please download the data files and place them on a relative path. Dataset(s) used in this assignment were compiled by the Office of Airline Information, Bureau of Transportation Statistics (BTS), Airline On-Time Performance Data, available with the following [link](https://www.transtats.bts.gov/Fields.asp?gnoyr_VQ=FGJ). "
   ]
  },
  {
   "cell_type": "markdown",
   "metadata": {},
   "source": [
    "# Step 1: Prepare the environment \n",
    "\n",
    "Use one of the labs which we have practised on with the Amazon Sagemakers where you perform the following steps:\n",
    "1. Start a lab.\n",
    "2. Create a notebook instance and name it \"oncloudproject\".\n",
    "3. Increase the used memory to 25 GB from the additional configurations.\n",
    "4. Open Jupyter Lab and upload this notebook into it.\n",
    "5. Upload the two combined CVS files (combined_csv_v1.csv and combined_csv_v2.csv), which you created in Part A of this project.\n",
    "\n",
    "**Note:** In case of the data is too much to be uploaded to the AWS, please use 20% of the data only for this task."
   ]
  },
  {
   "cell_type": "markdown",
   "metadata": {},
   "source": [
    "# Step 2: Build and evaluate simple models\n",
    "\n",
    "Write code to perform the follwoing steps:\n",
    "1. Split data into training, validation and testing sets (70% - 15% - 15%).\n",
    "2. Use linear learner estimator to build a classifcation model.\n",
    "3. Host the model on another instance\n",
    "4. Perform batch transform to evaluate the model on testing data\n",
    "5. Report the performance metrics that you see better test the model performance \n",
    "\n",
    "Note: You are required to perform the above steps on the two combined datasets separatey and to comments on the difference."
   ]
  },
  {
   "cell_type": "code",
   "execution_count": 1,
   "metadata": {},
   "outputs": [
    {
     "name": "stdout",
     "output_type": "stream",
     "text": [
      "sagemaker.config INFO - Not applying SDK defaults from location: /etc/xdg/sagemaker/config.yaml\n",
      "sagemaker.config INFO - Not applying SDK defaults from location: /home/ec2-user/.config/sagemaker/config.yaml\n"
     ]
    }
   ],
   "source": [
    "import os, io, boto3, zipfile, requests\n",
    "import pandas as pd\n",
    "from sklearn.model_selection import train_test_split\n",
    "from sagemaker import get_execution_role, Session, image_uris\n",
    "import sagemaker"
   ]
  },
  {
   "cell_type": "code",
   "execution_count": 2,
   "metadata": {},
   "outputs": [],
   "source": [
    "bucket='c182567a4701745l12374482t1w921201583050-labbucket-9dbcd7xdlpx6'"
   ]
  },
  {
   "cell_type": "code",
   "execution_count": 3,
   "metadata": {},
   "outputs": [
    {
     "name": "stdout",
     "output_type": "stream",
     "text": [
      "Train: 228982  Validate: 49068  Test: 49068\n"
     ]
    }
   ],
   "source": [
    "df = pd.read_csv('combined_csv_v2_20percent.csv')\n",
    "\n",
    "# label column is named 'target' and is first column \n",
    "if 'target' not in df.columns:\n",
    "    raise ValueError(\"Expected a 'target' column in the dataset.\")\n",
    "cols = df.columns.tolist()\n",
    "cols = ['target'] + [c for c in cols if c != 'target']\n",
    "df = df[cols]\n",
    "\n",
    "# Optional: ensure target is 0/1 ints\n",
    "df['target'] = pd.to_numeric(df['target'], errors='coerce').fillna(0).astype(int)\n",
    "\n",
    "# Train/Val/Test split (70/15/15)\n",
    "train, temp = train_test_split(\n",
    "    df, test_size=0.30, random_state=42, stratify=df['target']\n",
    ")\n",
    "validate, test = train_test_split(\n",
    "    temp, test_size=0.50, random_state=42, stratify=temp['target']\n",
    ")\n",
    "\n",
    "print(f\"Train: {len(train)}  Validate: {len(validate)}  Test: {len(test)}\")"
   ]
  },
  {
   "cell_type": "code",
   "execution_count": 4,
   "metadata": {},
   "outputs": [
    {
     "name": "stdout",
     "output_type": "stream",
     "text": [
      "S3 paths:\n",
      "  s3://c182567a4701745l12374482t1w921201583050-labbucket-9dbcd7xdlpx6/lab3/train/flight_delay_train.csv\n",
      "  s3://c182567a4701745l12374482t1w921201583050-labbucket-9dbcd7xdlpx6/lab3/validate/flight_delay_validate.csv\n",
      "  s3://c182567a4701745l12374482t1w921201583050-labbucket-9dbcd7xdlpx6/lab3/test/flight_delay_test.csv\n"
     ]
    }
   ],
   "source": [
    "prefix = 'lab3'                  # change if you like\n",
    "\n",
    "s3_resource = boto3.Session().resource('s3')\n",
    "\n",
    "def upload_s3_csv(filename, folder, dataframe):\n",
    "    csv_buffer = io.StringIO()\n",
    "    # header=False, index=False like your format\n",
    "    dataframe.to_csv(csv_buffer, header=False, index=False)\n",
    "    s3_resource.Bucket(bucket).Object(os.path.join(prefix, folder, filename)).put(Body=csv_buffer.getvalue())\n",
    "\n",
    "# Filenames (mirroring your naming convention)\n",
    "train_file    = 'flight_delay_train.csv'\n",
    "validate_file = 'flight_delay_validate.csv'\n",
    "test_file     = 'flight_delay_test.csv'\n",
    "\n",
    "# Upload splits\n",
    "upload_s3_csv(train_file, 'train', train)\n",
    "upload_s3_csv(validate_file, 'validate', validate)\n",
    "upload_s3_csv(test_file, 'test', test)\n",
    "\n",
    "print(f\"S3 paths:\\n  s3://{bucket}/{prefix}/train/{train_file}\\n  s3://{bucket}/{prefix}/validate/{validate_file}\\n  s3://{bucket}/{prefix}/test/{test_file}\")"
   ]
  },
  {
   "cell_type": "code",
   "execution_count": 5,
   "metadata": {},
   "outputs": [
    {
     "data": {
      "text/plain": [
       "'us-east-1'"
      ]
     },
     "execution_count": 5,
     "metadata": {},
     "output_type": "execute_result"
    }
   ],
   "source": [
    "region = boto3.Session().region_name\n",
    "region"
   ]
  },
  {
   "cell_type": "code",
   "execution_count": 6,
   "metadata": {},
   "outputs": [],
   "source": [
    "container = image_uris.retrieve('linear-learner', region)"
   ]
  },
  {
   "cell_type": "code",
   "execution_count": 7,
   "metadata": {},
   "outputs": [],
   "source": [
    "s3_output_location=\"s3://{}/{}/output/\".format(bucket,prefix)\n",
    "# Create estimator\n",
    "linear = sagemaker.estimator.Estimator(\n",
    "    image_uri=container,\n",
    "    role=sagemaker.get_execution_role(),\n",
    "    instance_count=1,\n",
    "    instance_type='ml.m5.large',\n",
    "    output_path=s3_output_location,\n",
    "    sagemaker_session=sagemaker.Session()\n",
    ")\n",
    "\n",
    "# Set hyperparameters for classification\n",
    "linear.set_hyperparameters(\n",
    "    predictor_type='binary_classifier',\n",
    "    mini_batch_size=200,\n",
    "    epochs=10,\n",
    "    loss='logistic',\n",
    "    normalize_data=True\n",
    ")"
   ]
  },
  {
   "cell_type": "code",
   "execution_count": 8,
   "metadata": {},
   "outputs": [
    {
     "name": "stderr",
     "output_type": "stream",
     "text": [
      "INFO:sagemaker:Creating training-job with name: linear-learner-2025-10-30-09-48-46-671\n"
     ]
    },
    {
     "name": "stdout",
     "output_type": "stream",
     "text": [
      "\n",
      "2025-10-30 09:48:51 Starting - Starting the training job..\n",
      "2025-10-30 09:49:06 Starting - Preparing the instances for training....\n",
      "2025-10-30 09:49:31 Downloading - Downloading input data........\n",
      "2025-10-30 09:50:16 Downloading - Downloading the training image...............\n",
      "2025-10-30 09:51:37 Training - Training image download completed. Training in progress..................................................................................................\n",
      "2025-10-30 09:59:49 Uploading - Uploading generated training model.\n",
      "2025-10-30 10:00:02 Completed - Training job completed\n",
      "ready for hosting!\n"
     ]
    }
   ],
   "source": [
    "train_channel = sagemaker.inputs.TrainingInput(\n",
    "    \"s3://{}/{}/train/\".format(bucket,prefix,train_file),\n",
    "    content_type='text/csv')\n",
    "\n",
    "validate_channel = sagemaker.inputs.TrainingInput(\n",
    "    \"s3://{}/{}/validate/\".format(bucket,prefix,validate_file),\n",
    "    content_type='text/csv')\n",
    "\n",
    "data_channels = {'train': train_channel, 'validation': validate_channel}\n",
    "\n",
    "linear.fit(inputs=data_channels, logs=False)\n",
    "\n",
    "print('ready for hosting!')"
   ]
  },
  {
   "cell_type": "code",
   "execution_count": 9,
   "metadata": {},
   "outputs": [
    {
     "name": "stderr",
     "output_type": "stream",
     "text": [
      "INFO:sagemaker:Creating model with name: linear-learner-2025-10-30-10-00-11-614\n",
      "INFO:sagemaker:Creating endpoint-config with name linear-learner-2025-10-30-10-00-11-614\n",
      "INFO:sagemaker:Creating endpoint with name linear-learner-2025-10-30-10-00-11-614\n"
     ]
    },
    {
     "name": "stdout",
     "output_type": "stream",
     "text": [
      "-------!"
     ]
    }
   ],
   "source": [
    "predictor = linear.deploy(\n",
    "    initial_instance_count=1,\n",
    "    instance_type='ml.m5.large'\n",
    ")"
   ]
  },
  {
   "cell_type": "code",
   "execution_count": 10,
   "metadata": {},
   "outputs": [],
   "source": [
    "from sagemaker.serializers import CSVSerializer\n",
    "from sagemaker.deserializers import JSONDeserializer\n",
    "import json, numpy as np\n",
    "\n",
    "# Make sure features are numeric float32\n",
    "X_test = test.drop('target', axis=1).astype('float32')\n",
    "y_test = test['target']\n",
    "\n",
    "# Configure endpoint I/O\n",
    "predictor.serializer   = CSVSerializer()        # send CSV\n",
    "predictor.deserializer = JSONDeserializer()     # receive JSON\n",
    "predictor.content_type = 'text/csv'\n",
    "predictor.accept       = 'application/json'\n",
    "\n",
    "pred_labels, pred_scores = [], []\n",
    "batch_size = 200\n",
    "\n",
    "for start in range(0, len(X_test), batch_size):\n",
    "    batch = X_test.iloc[start:start+batch_size]\n",
    "    payload = batch.to_csv(header=False, index=False).strip()  # no trailing newline\n",
    "\n",
    "    resp = predictor.predict(payload)          # <-- now a dict\n",
    "    preds = resp['predictions']                # list of dicts\n",
    "\n",
    "    for p in preds:\n",
    "        pred_labels.append(int(p['predicted_label']))\n",
    "        pred_scores.append(float(p['score']))\n",
    "\n",
    "pred_labels = np.array(pred_labels)\n",
    "pred_scores = np.array(pred_scores)\n"
   ]
  },
  {
   "cell_type": "code",
   "execution_count": 12,
   "metadata": {},
   "outputs": [
    {
     "name": "stdout",
     "output_type": "stream",
     "text": [
      "Accuracy    : 0.7943\n",
      "Precision   : 0.5702\n",
      "Recall      : 0.0524\n",
      "F1-score    : 0.0960\n",
      "Confusion Matrix:\n",
      " [[38437   404]\n",
      " [ 9691   536]]\n",
      "\n",
      "Classification Report:\n",
      "               precision    recall  f1-score   support\n",
      "\n",
      "           0       0.80      0.99      0.88     38841\n",
      "           1       0.57      0.05      0.10     10227\n",
      "\n",
      "    accuracy                           0.79     49068\n",
      "   macro avg       0.68      0.52      0.49     49068\n",
      "weighted avg       0.75      0.79      0.72     49068\n",
      "\n"
     ]
    }
   ],
   "source": [
    "from sklearn.metrics import accuracy_score, precision_score, recall_score, f1_score, confusion_matrix, classification_report, roc_auc_score\n",
    "acc  = accuracy_score(y_test, pred_labels)\n",
    "prec = precision_score(y_test, pred_labels, zero_division=0)\n",
    "rec  = recall_score(y_test, pred_labels, zero_division=0)\n",
    "f1   = f1_score(y_test, pred_labels, zero_division=0)\n",
    "cm   = confusion_matrix(y_test, pred_labels)\n",
    "\n",
    "print(f\"Accuracy    : {acc:.4f}\")\n",
    "print(f\"Precision   : {prec:.4f}\")\n",
    "print(f\"Recall      : {rec:.4f}\")\n",
    "print(f\"F1-score    : {f1:.4f}\")\n",
    "print(\"Confusion Matrix:\\n\", cm)\n",
    "print(\"\\nClassification Report:\\n\", classification_report(y_test, pred_labels, zero_division=0))"
   ]
  },
  {
   "cell_type": "markdown",
   "metadata": {},
   "source": [
    "# Step 3: Build and evaluate ensembe models\n",
    "\n",
    "Write code to perform the follwoing steps:\n",
    "1. Split data into training, validation and testing sets (70% - 15% - 15%).\n",
    "2. Use xgboost estimator to build a classifcation model.\n",
    "3. Host the model on another instance\n",
    "4. Perform batch transform to evaluate the model on testing data\n",
    "5. Report the performance metrics that you see better test the model performance \n",
    "6. write down your observation on the difference between the performance of using the simple and ensemble models.\n",
    "Note: You are required to perform the above steps on the two combined datasets separatey."
   ]
  },
  {
   "cell_type": "code",
   "execution_count": 4,
   "metadata": {},
   "outputs": [],
   "source": [
    "# Write the code here and add cells as you need"
   ]
  },
  {
   "cell_type": "code",
   "execution_count": 5,
   "metadata": {},
   "outputs": [],
   "source": [
    "# Write the final comments here and turn the cell type into markdown"
   ]
  }
 ],
 "metadata": {
  "kernelspec": {
   "display_name": "conda_python3",
   "language": "python",
   "name": "conda_python3"
  },
  "language_info": {
   "codemirror_mode": {
    "name": "ipython",
    "version": 3
   },
   "file_extension": ".py",
   "mimetype": "text/x-python",
   "name": "python",
   "nbconvert_exporter": "python",
   "pygments_lexer": "ipython3",
   "version": "3.10.18"
  }
 },
 "nbformat": 4,
 "nbformat_minor": 4
}
